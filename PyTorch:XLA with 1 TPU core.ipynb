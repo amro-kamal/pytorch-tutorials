{
  "nbformat": 4,
  "nbformat_minor": 0,
  "metadata": {
    "colab": {
      "name": "Getting Started with PyTorch on Cloud TPUs",
      "provenance": [],
      "collapsed_sections": [],
      "machine_shape": "hm"
    },
    "kernelspec": {
      "name": "python3",
      "display_name": "Python 3"
    },
    "accelerator": "TPU"
  },
  "cells": [
    {
      "cell_type": "markdown",
      "metadata": {
        "id": "RKLajLqUni6H"
      },
      "source": [
        "## Getting Started with PyTorch on Cloud TPUs\n",
        "\n",
        "This notebook will show you how to:\n",
        "\n",
        "* Install PyTorch/XLA on Colab, which lets you use PyTorch with TPUs.\n",
        "* Run basic PyTorch functions on TPUs, like creating and adding tensors.\n",
        "* Run PyTorch modules and autograd on TPUs.\n",
        "* Run PyTorch networks on TPUs.\n",
        "\n",
        "PyTorch/XLA is a package that lets PyTorch connect to Cloud TPUs and use TPU cores as devices. Colab provides a free Cloud TPU system (a remote CPU host + four TPU chips with two cores each) and installing PyTorch/XLA only takes a couple minutes. \n",
        "\n",
        "Even though Colab offers eight TPU cores, this notebook only uses one for simplicity. More information about running PyTorch on TPUs can be found on [PyTorch.org](http://pytorch.org/xla/), including how to run PyTorch networks on multiple TPU cores simultaneously. Other Colab notebooks also show how to use multiple TPU cores, including [this one](https://colab.research.google.com/github/pytorch/xla/blob/master/contrib/colab/mnist-training.ipynb#scrollTo=Afwo4H7kSd8P) which trains a network on the MNIST dataset and [this one](https://colab.research.google.com/github/pytorch/xla/blob/master/contrib/colab/resnet18-training.ipynb#scrollTo=_2nL4HmloEyl) which trains a ResNet18 architecture on CIFAR10. \n",
        "\n",
        "These and other Colab notebooks, as well as Google Cloud Platform (GCP) tutorials, can be found [here](https://github.com/pytorch/xla/tree/master/contrib/colab). Check out our [NeurIPS 2019 Fast Neural Style Transfer demo](https://colab.research.google.com/github/pytorch/xla/blob/master/contrib/colab/style_transfer_inference.ipynb#scrollTo=EozMXwIV9iOJ), where you can apply different styles (filters) to your own images!\n",
        "\n",
        "To use PyTorch on Cloud TPUs in your own Colab notebook you can copy this one, or copy the setup cell below and configure your Colab environment to use TPUs. \n",
        "\n",
        "Finally, this notebook is intended for people already familiar with PyTorch, a popular open-source deep learning framework. If you haven't used PyTorch before you might want to review the tutorials at https://pytorch.org/ before continuing.\n"
      ]
    },
    {
      "cell_type": "markdown",
      "metadata": {
        "id": "b3rCVMRazoeB"
      },
      "source": [
        "<h3>  &nbsp;&nbsp;Use Colab Cloud TPU&nbsp;&nbsp; <a href=\"https://cloud.google.com/tpu/\"><img valign=\"middle\" src=\"https://raw.githubusercontent.com/GoogleCloudPlatform/tensorflow-without-a-phd/master/tensorflow-rl-pong/images/tpu-hexagon.png\" width=\"50\"></a></h3>\n",
        "\n",
        "* On the main menu, click Runtime and select **Change runtime type**. Set \"TPU\" as the hardware accelerator.\n",
        "* The cell below makes sure you have access to a TPU on Colab.\n"
      ]
    },
    {
      "cell_type": "code",
      "metadata": {
        "id": "3P6b3uqfzpDI"
      },
      "source": [
        "import os\n",
        "assert os.environ['COLAB_TPU_ADDR'], 'Make sure to select TPU from Edit > Notebook settings > Hardware accelerator'"
      ],
      "execution_count": 1,
      "outputs": []
    },
    {
      "cell_type": "markdown",
      "metadata": {
        "id": "CHzziBW5AoZH"
      },
      "source": [
        "## Installing PyTorch/XLA\n",
        "\n",
        "Run the following cell (or copy it into your own notebook!) to install PyTorch, Torchvision, and PyTorch/XLA. It will take a couple minutes to run.\n",
        "\n",
        "The PyTorch/XLA package lets PyTorch connect to Cloud TPUs. (It's named PyTorch/XLA, not PyTorch/TPU, because XLA is the name of the TPU compiler.) In particular, PyTorch/XLA makes TPU cores available as PyTorch devices. This lets PyTorch create and manipulate tensors on TPUs."
      ]
    },
    {
      "cell_type": "code",
      "metadata": {
        "id": "yUB12htcqU9W"
      },
      "source": [
        "!pip install cloud-tpu-client==0.10 https://storage.googleapis.com/tpu-pytorch/wheels/torch_xla-1.8.1-cp37-cp37m-linux_x86_64.whl"
      ],
      "execution_count": null,
      "outputs": []
    },
    {
      "cell_type": "markdown",
      "metadata": {
        "id": "__QtfkH8qVXC"
      },
      "source": [
        "### Only run the below commented cell if you would like a nightly release"
      ]
    },
    {
      "cell_type": "code",
      "metadata": {
        "id": "sPJVqAKyml5W"
      },
      "source": [
        "# VERSION = \"20200325\"  #@param [\"1.5\" , \"20200325\", \"nightly\"]\n",
        "# !curl https://raw.githubusercontent.com/pytorch/xla/master/contrib/scripts/env-setup.py -o pytorch-xla-env-setup.py\n",
        "# !python pytorch-xla-env-setup.py --version $VERSION"
      ],
      "execution_count": null,
      "outputs": []
    },
    {
      "cell_type": "markdown",
      "metadata": {
        "id": "ls3j-EWI2D2v"
      },
      "source": [
        "## Creating and Manipulating Tensors on TPUs\n",
        "\n",
        "PyTorch uses Cloud TPUs just like it uses CPU or CUDA devices, as the next few cells will show. Each core of a Cloud TPU is treated as a different PyTorch  device.\n",
        "\n",
        "\n"
      ]
    },
    {
      "cell_type": "code",
      "metadata": {
        "id": "42avAvSg17by",
        "colab": {
          "base_uri": "https://localhost:8080/"
        },
        "outputId": "5ec365e7-2d01-4716-9f7b-96e86816c82b"
      },
      "source": [
        "# imports pytorch\n",
        "import torch\n",
        "\n",
        "# imports the torch_xla package\n",
        "import torch_xla\n",
        "import torch_xla.core.xla_model as xm"
      ],
      "execution_count": 3,
      "outputs": [
        {
          "output_type": "stream",
          "text": [
            "WARNING:root:Waiting for TPU to be start up with version pytorch-1.8.1...\n",
            "WARNING:root:Waiting for TPU to be start up with version pytorch-1.8.1...\n",
            "WARNING:root:TPU has started up successfully with version pytorch-1.8.1\n"
          ],
          "name": "stderr"
        }
      ]
    },
    {
      "cell_type": "markdown",
      "metadata": {
        "id": "4b8RfPPk4VIX"
      },
      "source": [
        "As mentioned above, the PyTorch/XLA package (torch_xla) lets PyTorch use TPU devices. The `xla_device()` function returns the TPU's \"default\" core as a device. This lets PyTorch creates tensors on TPUs:"
      ]
    },
    {
      "cell_type": "code",
      "metadata": {
        "id": "H9KYz-Vk4fMa",
        "colab": {
          "base_uri": "https://localhost:8080/"
        },
        "outputId": "af709de5-8b91-443d-851f-faf79592ce78"
      },
      "source": [
        "# Creates a random tensor on xla:1 (a Cloud TPU core)\n",
        "dev = xm.xla_device()\n",
        "t1 = torch.ones(3, 3, device = dev)\n",
        "print(t1)"
      ],
      "execution_count": 5,
      "outputs": [
        {
          "output_type": "stream",
          "text": [
            "tensor([[1., 1., 1.],\n",
            "        [1., 1., 1.],\n",
            "        [1., 1., 1.]], device='xla:1')\n"
          ],
          "name": "stdout"
        }
      ]
    },
    {
      "cell_type": "markdown",
      "metadata": {
        "id": "yHwOC-xr4_LX"
      },
      "source": [
        "See the documentation at http://pytorch.org/xla/ for a description of all public PyTorch/XLA functions. Here `xm.xla_device()` acquired the first Cloud TPU core ('xla:1'). Other cores can be directly acquired, too:"
      ]
    },
    {
      "cell_type": "code",
      "metadata": {
        "id": "2ef7flq95OxD",
        "colab": {
          "base_uri": "https://localhost:8080/"
        },
        "outputId": "50d61ca1-028e-4701-f0c3-8ccf387613d7"
      },
      "source": [
        "# Creating a tensor on the second Cloud TPU core\n",
        "second_dev = xm.xla_device(n=2, devkind='TPU')\n",
        "t2 = torch.zeros(3, 3, device = second_dev)\n",
        "print(t2)"
      ],
      "execution_count": 6,
      "outputs": [
        {
          "output_type": "stream",
          "text": [
            "tensor([[0., 0., 0.],\n",
            "        [0., 0., 0.],\n",
            "        [0., 0., 0.]], device='xla:2')\n"
          ],
          "name": "stdout"
        }
      ]
    },
    {
      "cell_type": "markdown",
      "metadata": {
        "id": "ANcDKzGG5_ua"
      },
      "source": [
        "It is recommended that you use functions like `xm.xla_device()` over directly specifying TPU cores. A future Colab tutorial will show how to easily train a network using multiple cores (or you can look at [an example](https://colab.research.google.com/github/pytorch/xla/blob/master/contrib/colab/mnist-training.ipynb#scrollTo=Afwo4H7kSd8Phttps://)).\n"
      ]
    },
    {
      "cell_type": "markdown",
      "metadata": {
        "id": "QiKmkAkoO06x"
      },
      "source": [
        "Tensors on TPUs can be manipulated like any other PyTorch tensor. The following cell adds, multiplies, and matrix multiplies two tensors on a TPU core:"
      ]
    },
    {
      "cell_type": "code",
      "metadata": {
        "id": "l50-R2kwFY7Z",
        "colab": {
          "base_uri": "https://localhost:8080/"
        },
        "outputId": "ed612f37-5319-4f02-cbb4-61a2b6bf7602"
      },
      "source": [
        "a = torch.randn(2, 2, device = dev)\n",
        "b = torch.randn(2, 2, device = dev)\n",
        "print(a + b)\n",
        "print(b * 2)\n",
        "print(torch.matmul(a, b))"
      ],
      "execution_count": 7,
      "outputs": [
        {
          "output_type": "stream",
          "text": [
            "tensor([[ 0.9285, -1.1517],\n",
            "        [ 0.4875,  1.0669]], device='xla:1')\n",
            "tensor([[ 1.6515,  0.6532],\n",
            "        [ 1.8291, -0.5493]], device='xla:1')\n",
            "tensor([[-1.2652,  0.4401],\n",
            "        [ 0.8757, -0.5096]], device='xla:1')\n"
          ],
          "name": "stdout"
        }
      ]
    },
    {
      "cell_type": "markdown",
      "metadata": {
        "id": "cfDBbDtuisdu"
      },
      "source": [
        "This next cell runs a 1D convolution on a TPU core:"
      ]
    },
    {
      "cell_type": "code",
      "metadata": {
        "id": "aryiLyezisEg",
        "colab": {
          "base_uri": "https://localhost:8080/"
        },
        "outputId": "b55cbe0e-f520-44c5-b860-d36b84428287"
      },
      "source": [
        "# Creates random filters and inputs to a 1D convolution\n",
        "filters = torch.randn(33, 16, 3, device = dev)\n",
        "inputs = torch.randn(20, 16, 50, device = dev)\n",
        "torch.nn.functional.conv1d(inputs, filters)"
      ],
      "execution_count": 8,
      "outputs": [
        {
          "output_type": "execute_result",
          "data": {
            "text/plain": [
              "tensor([[[ 7.4347e+00, -9.3358e+00,  2.8346e+00,  ...,  4.8745e-01,\n",
              "          -1.1800e+01,  2.3509e+00],\n",
              "         [-5.6661e+00, -9.2697e+00, -2.7056e+00,  ..., -5.8482e+00,\n",
              "          -7.8100e+00,  4.6295e+00],\n",
              "         [-4.4290e+00, -6.9281e+00,  2.1860e+00,  ...,  1.2434e+01,\n",
              "          -7.8181e+00, -5.3043e-01],\n",
              "         ...,\n",
              "         [ 1.6844e+01,  9.5925e+00, -7.4014e+00,  ..., -3.5882e+00,\n",
              "           8.9396e-01, -1.1485e+01],\n",
              "         [-1.2405e+01, -9.6386e+00,  5.4843e+00,  ...,  3.7790e+00,\n",
              "          -3.0254e+00, -1.1809e+00],\n",
              "         [ 4.5209e+00, -1.1931e+01, -2.5749e+00,  ...,  5.3200e+00,\n",
              "          -2.9704e+00,  1.5700e+00]],\n",
              "\n",
              "        [[ 2.5035e+00,  8.3513e+00, -4.9031e+00,  ...,  1.3565e+01,\n",
              "          -9.2602e+00,  2.9704e+00],\n",
              "         [-3.6338e+00,  5.2198e+00,  4.7569e+00,  ...,  2.1375e+00,\n",
              "          -2.6774e+00, -1.1080e+01],\n",
              "         [ 8.0821e-01, -4.5582e+00, -1.8723e+00,  ..., -4.4451e+00,\n",
              "           1.5516e+00, -1.0374e+01],\n",
              "         ...,\n",
              "         [ 1.1265e+00,  3.5047e+00, -5.1040e+00,  ...,  1.4015e+01,\n",
              "          -5.6040e-01,  1.6920e+01],\n",
              "         [-5.5304e+00,  3.8225e+00,  5.0410e+00,  ...,  4.8330e-01,\n",
              "          -1.0257e+01,  4.0899e+00],\n",
              "         [ 2.5518e+00,  7.0369e+00, -3.0032e+00,  ...,  1.2838e+01,\n",
              "          -8.8882e+00,  1.5254e+00]],\n",
              "\n",
              "        [[-1.3859e+01, -9.6976e-01,  6.4488e+00,  ..., -7.7596e-01,\n",
              "           2.4787e+00, -5.0689e+00],\n",
              "         [-4.0451e+00, -2.0247e+00,  2.6136e-01,  ..., -1.0355e+01,\n",
              "          -2.0778e+00, -1.5913e+00],\n",
              "         [ 6.8038e+00, -1.0385e+00,  1.4443e+00,  ...,  2.6072e+00,\n",
              "           1.2525e+01,  1.4726e-02],\n",
              "         ...,\n",
              "         [-7.5312e-01,  6.5751e+00, -9.2515e-01,  ..., -1.9843e+00,\n",
              "          -4.9589e+00, -4.5260e+00],\n",
              "         [ 9.6812e-01, -1.6013e+00,  1.4205e+00,  ..., -6.9747e-01,\n",
              "          -4.2361e-01,  7.3910e+00],\n",
              "         [-5.2320e+00,  3.6713e+00,  5.2296e+00,  ...,  7.2603e+00,\n",
              "           4.6602e+00, -1.3350e+00]],\n",
              "\n",
              "        ...,\n",
              "\n",
              "        [[-1.3450e+00, -1.0145e+01,  6.0400e+00,  ..., -7.9686e+00,\n",
              "          -7.9459e+00,  4.0122e+00],\n",
              "         [-5.6168e+00, -1.8505e+00,  1.6308e+00,  ..., -5.5756e+00,\n",
              "           9.5945e+00, -1.0763e+01],\n",
              "         [-7.0027e+00,  3.3404e+00,  8.8098e+00,  ...,  2.3126e+00,\n",
              "           8.6111e+00, -1.5210e+00],\n",
              "         ...,\n",
              "         [ 7.8680e+00, -3.5236e+00, -1.9545e+00,  ...,  1.1355e+01,\n",
              "          -2.0625e+00,  7.6860e+00],\n",
              "         [-3.7906e+00,  1.5523e+01, -7.4317e-01,  ...,  5.1943e+00,\n",
              "          -5.8645e+00, -4.3381e+00],\n",
              "         [-3.9558e+00, -1.0166e+01, -8.5706e-01,  ...,  6.3504e+00,\n",
              "           9.3350e+00, -8.9388e+00]],\n",
              "\n",
              "        [[-1.5970e+00, -1.4038e+01, -2.6387e+00,  ..., -1.8901e-01,\n",
              "           1.0820e+00,  7.1489e+00],\n",
              "         [-3.4330e+00,  5.1395e+00,  3.7404e+00,  ..., -3.3777e+00,\n",
              "           3.0957e+00, -5.9279e-01],\n",
              "         [-1.2059e+01,  1.0371e+01,  9.4137e+00,  ...,  9.5762e+00,\n",
              "          -1.8906e+00, -1.3258e+00],\n",
              "         ...,\n",
              "         [-5.7409e+00, -1.0162e+01,  2.4626e+00,  ...,  9.7300e+00,\n",
              "           8.8086e-01, -6.1044e+00],\n",
              "         [-2.2152e+00,  5.5470e+00,  9.9376e+00,  ...,  7.1009e+00,\n",
              "          -4.7187e+00,  2.2602e+00],\n",
              "         [-9.5164e+00,  8.6409e+00,  1.9504e+00,  ..., -1.1906e+01,\n",
              "          -8.4383e-01, -2.6040e+00]],\n",
              "\n",
              "        [[ 6.8379e+00,  7.0770e+00, -2.5611e+01,  ..., -1.9926e-01,\n",
              "           4.2014e-01,  4.6949e+00],\n",
              "         [ 5.3774e+00, -2.5640e+00, -6.5890e+00,  ..., -1.7340e-01,\n",
              "           7.4820e-01,  1.1817e+01],\n",
              "         [-6.6974e+00, -3.3199e+00,  3.3435e+00,  ..., -1.7361e+01,\n",
              "           7.7091e-01, -1.4052e-01],\n",
              "         ...,\n",
              "         [-2.7781e+00,  5.4192e+00, -8.9644e-01,  ..., -1.0045e+01,\n",
              "           2.9084e+00, -5.9348e-01],\n",
              "         [-6.2643e+00, -6.2468e+00,  1.1944e+01,  ...,  1.6900e+00,\n",
              "          -4.3723e+00, -6.5888e+00],\n",
              "         [ 1.5497e+00, -1.1053e+01, -2.1437e+01,  ..., -1.1865e+01,\n",
              "           3.6967e+00, -8.6014e-01]]], device='xla:1')"
            ]
          },
          "metadata": {
            "tags": []
          },
          "execution_count": 8
        }
      ]
    },
    {
      "cell_type": "markdown",
      "metadata": {
        "id": "D5b4AmYDgbKd"
      },
      "source": [
        "And tensors can be transferred between CPU and TPU. In the following cell, a tensor on the CPU is copied to a TPU core, and then copied back to the CPU again. Note that PyTorch makes copies of tensors when transferring them across devices, so `t_cpu` and `t_cpu_again` are different tensors.\n",
        "\n"
      ]
    },
    {
      "cell_type": "code",
      "metadata": {
        "id": "8WTsdQ3yO-8G",
        "colab": {
          "base_uri": "https://localhost:8080/"
        },
        "outputId": "7e3bd590-0345-48d2-f93e-6d0c463f57cf"
      },
      "source": [
        "# Creates a tensor on the CPU (device='cpu' is unnecessary and only added for clarity)\n",
        "t_cpu = torch.randn(2, 2, device='cpu')\n",
        "print(t_cpu)\n",
        "\n",
        "t_tpu = t_cpu.to(dev)\n",
        "print(t_tpu)\n",
        "\n",
        "t_cpu_again = t_tpu.to('cpu')\n",
        "print(t_cpu_again)"
      ],
      "execution_count": 9,
      "outputs": [
        {
          "output_type": "stream",
          "text": [
            "tensor([[-0.9795, -0.3590],\n",
            "        [-0.7553,  0.9867]])\n",
            "tensor([[-0.9795, -0.3590],\n",
            "        [-0.7553,  0.9867]], device='xla:1')\n",
            "tensor([[-0.9795, -0.3590],\n",
            "        [-0.7553,  0.9867]])\n"
          ],
          "name": "stdout"
        }
      ]
    },
    {
      "cell_type": "markdown",
      "metadata": {
        "id": "DWtOgDLxN_BV"
      },
      "source": [
        "## Running PyTorch modules and autograd on TPUs\n",
        "\n",
        "Modules and autograd are fundamental PyTorch components. \n",
        "\n",
        "In PyTorch, every stateful function is a module. Modules are Python classes augmented with metadata that lets PyTorch understand how to use them in a neural network. For example, linear layers are modules, as are entire networks. Since modules are stateful, they can be placed on devices, too. PyTorch/XLA lets us place them on TPU cores:\n"
      ]
    },
    {
      "cell_type": "code",
      "metadata": {
        "id": "P-WT-r8sRERM",
        "colab": {
          "base_uri": "https://localhost:8080/"
        },
        "outputId": "fc3147fb-6fc0-4d99-ecba-b324eaaab01f"
      },
      "source": [
        "# Creates a linear module\n",
        "fc = torch.nn.Linear(5, 2, bias=True)\n",
        "\n",
        "# Copies the module to the XLA device (the first Cloud TPU core)\n",
        "fc = fc.to(dev)\n",
        "\n",
        "# Creates a random feature tensor\n",
        "features = torch.randn(3, 5, device=dev, requires_grad=True)\n",
        "\n",
        "# Runs and prints the module\n",
        "output = fc(features)\n",
        "print(output)"
      ],
      "execution_count": 12,
      "outputs": [
        {
          "output_type": "stream",
          "text": [
            "tensor([[-0.6566, -0.8653],\n",
            "        [ 0.9762,  0.7125],\n",
            "        [ 0.4230,  0.2303]], device='xla:1', grad_fn=<AddmmBackward>)\n"
          ],
          "name": "stdout"
        }
      ]
    },
    {
      "cell_type": "markdown",
      "metadata": {
        "id": "23Epn0HHR_Nq"
      },
      "source": [
        "Autograd is the system PyTorch uses to populate the gradients of weights in a neural network. See [here](https://pytorch.org/tutorials/beginner/blitz/autograd_tutorial.html#sphx-glr-beginner-blitz-autograd-tutorial-py) for details about PyTorch's autograd. When a module is run on a TPU core, its gradients are also populated on the same TPU core by autograd. The following cell demonstrates this:"
      ]
    },
    {
      "cell_type": "code",
      "metadata": {
        "id": "Qs-2q5AMRixo",
        "colab": {
          "base_uri": "https://localhost:8080/"
        },
        "outputId": "b86ae791-44c9-41f1-ba4a-5676d5d8fd7a"
      },
      "source": [
        "output.backward(torch.ones_like(output))\n",
        "print(fc.weight.grad)"
      ],
      "execution_count": 13,
      "outputs": [
        {
          "output_type": "stream",
          "text": [
            "tensor([[-4.2266, -0.8027,  2.4844, -2.2441,  0.4492],\n",
            "        [-4.2266, -0.8027,  2.4844, -2.2441,  0.4492]], device='xla:1')\n"
          ],
          "name": "stdout"
        }
      ]
    },
    {
      "cell_type": "markdown",
      "metadata": {
        "id": "u0g3o1wHmF38"
      },
      "source": [
        "## Running PyTorch networks on TPUs\n",
        "\n",
        "As mentioned above, PyTorch networks are also modules, and so they're run in the same way. The following cell runs a relatively simple PyTorch network from the [PyTorch tutorial docs](https://pytorch.org/tutorials/beginner/blitz/neural_networks_tutorial.html#sphx-glr-beginner-blitz-neural-networks-tutorial-py) on a TPU core:"
      ]
    },
    {
      "cell_type": "code",
      "metadata": {
        "id": "ZLtM_M1imkFQ",
        "colab": {
          "base_uri": "https://localhost:8080/"
        },
        "outputId": "41c47c8c-f0d8-41b7-e3a4-a00a181dead5"
      },
      "source": [
        "import torch.nn as nn\n",
        "import torch.nn.functional as F\n",
        "\n",
        "# Simple example network from \n",
        "# https://pytorch.org/tutorials/beginner/blitz/neural_networks_tutorial.html#sphx-glr-beginner-blitz-neural-networks-tutorial-py\n",
        "class Net(nn.Module):\n",
        "\n",
        "    def __init__(self):\n",
        "        super(Net, self).__init__()\n",
        "        # 1 input image channel, 6 output channels, 3x3 square convolution\n",
        "        # kernel\n",
        "        self.conv1 = nn.Conv2d(1, 6, 3)\n",
        "        self.conv2 = nn.Conv2d(6, 16, 3)\n",
        "        # an affine operation: y = Wx + b\n",
        "        self.fc1 = nn.Linear(16 * 6 * 6, 120)  # 6*6 from image dimension\n",
        "        self.fc2 = nn.Linear(120, 84)\n",
        "        self.fc3 = nn.Linear(84, 10)\n",
        "\n",
        "    def forward(self, x):\n",
        "        # Max pooling over a (2, 2) window\n",
        "        x = F.max_pool2d(F.relu(self.conv1(x)), (2, 2))\n",
        "        # If the size is a square you can only specify a single number\n",
        "        x = F.max_pool2d(F.relu(self.conv2(x)), 2)\n",
        "        x = x.view(-1, self.num_flat_features(x))\n",
        "        x = F.relu(self.fc1(x))\n",
        "        x = F.relu(self.fc2(x))\n",
        "        x = self.fc3(x)\n",
        "        return x\n",
        "\n",
        "    def num_flat_features(self, x):\n",
        "        size = x.size()[1:]  # all dimensions except the batch dimension\n",
        "        num_features = 1\n",
        "        for s in size:\n",
        "            num_features *= s\n",
        "        return num_features\n",
        "\n",
        "\n",
        "# Places network on the default TPU core\n",
        "net = Net().to(dev)\n",
        "\n",
        "# Creates random input on the default TPU core\n",
        "input = torch.randn(1, 1, 32, 32, device=dev)\n",
        "\n",
        "# Runs network\n",
        "out = net(input)\n",
        "print(out)"
      ],
      "execution_count": 14,
      "outputs": [
        {
          "output_type": "stream",
          "text": [
            "tensor([[-0.1059, -0.0371,  0.0275,  0.1023, -0.0938,  0.0578,  0.1138,  0.0771,\n",
            "          0.0062,  0.1206]], device='xla:1', grad_fn=<AddmmBackward>)\n"
          ],
          "name": "stdout"
        }
      ]
    },
    {
      "cell_type": "markdown",
      "metadata": {
        "id": "zmySVJYIm88W"
      },
      "source": [
        "As in the previous snippets, running PyTorch on a TPU just requires specifying a TPU core as a device."
      ]
    },
    {
      "cell_type": "markdown",
      "metadata": {
        "id": "e9y2QGhl8SyE"
      },
      "source": [
        "## More PyTorch on TPUs!\n",
        "\n",
        "This \"Getting Started\" notebook showed you how to:\n",
        "\n",
        "* Install PyTorch/XLA on Colab, which lets you use PyTorch with TPUs.\n",
        "* Run basic PyTorch functions on TPUs, like creating and adding tensors.\n",
        "* Run PyTorch modules and autograd on TPUs.\n",
        "* Run PyTorch networks on TPUs.\n",
        "\n",
        "Working with tensors, running modules, and running entire networks on a Cloud TPU is as simple as installing PyTorch/XLA and telling PyTorch to use the Colab TPU as its device.\n",
        "\n",
        "You're encouraged to try PyTorch/XLA on Colab and GCP, too! You can copy this notebook to get started, or just copy the PyTorch/XLA setup cell above. The PyTorch/XLA team would love to hear your ideas/suggestions/comments, too! For now, the best way to contact the team is with an issue on our Github: https://github.com/pytorch/xla/issues. \n",
        "\n",
        "Future tutorials will cover:\n",
        "\n",
        "* Training a network using multiple TPU cores.\n",
        "* Loading batched data onto TPUs.\n",
        "\n",
        "You can already see examples of training a network on multiple TPU cores and loading batched data onto TPUs [here](https://github.com/pytorch/xla/tree/master/contrib/colab).\n",
        "\n"
      ]
    }
  ]
}